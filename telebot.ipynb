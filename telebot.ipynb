{
  "cells": [
    {
      "cell_type": "markdown",
      "metadata": {
        "id": "view-in-github",
        "colab_type": "text"
      },
      "source": [
        "<a href=\"https://colab.research.google.com/github/hchgssarwyh/ai_fiction/blob/features/telebot.ipynb\" target=\"_parent\"><img src=\"https://colab.research.google.com/assets/colab-badge.svg\" alt=\"Open In Colab\"/></a>"
      ]
    },
    {
      "cell_type": "markdown",
      "metadata": {
        "id": "OrfXFSS0xrwn"
      },
      "source": [
        "# Telegram bot"
      ]
    },
    {
      "cell_type": "code",
      "source": [
        "import telebot;\n",
        "from telebot import types\n",
        "\n"
      ],
      "metadata": {
        "id": "Kks1e_a9BhBP"
      },
      "execution_count": 41,
      "outputs": []
    },
    {
      "cell_type": "code",
      "source": [
        "bot = telebot.TeleBot('5912676709:AAFogJDypnO9nA9GZ9bKMB4Kw4ul_d7CYQk');\n",
        "word = '';\n",
        "\n",
        "@bot.message_handler(content_types=['text'])\n",
        "def get_first_messages(message):\n",
        "\n",
        "\n",
        "    if message.text == \"/help\":\n",
        "        bot.send_message(message.from_user.id, 'Список команд: \\n /author - выбор стиля для стиха или прозы \\n /poem - выбор первого слова для начала стиха')\n",
        "    elif message.text == \"/poem\":\n",
        "        bot.send_message(message.from_user.id, \"Введи первое слово\")\n",
        "        bot.register_next_step_handler(message, get_word);\n",
        "    \n",
        "    elif message.text == \"/author\":\n",
        "\n",
        "        keyboard_author = types.InlineKeyboardMarkup(); #наша клавиатура\n",
        "\n",
        "        key_hokku = types.InlineKeyboardButton(text='Хокку', callback_data='hokku');\n",
        "        keyboard_author.add(key_hokku); #добавляем кнопку c хокку\n",
        "        key_esenin= types.InlineKeyboardButton(text='Есенин', callback_data='esenin');\n",
        "        keyboard_author.add(key_esenin);#добавляем кнопку c Есенином\n",
        "        key_harms= types.InlineKeyboardButton(text='Хармс', callback_data='harms');\n",
        "        keyboard_author.add(key_harms);#добавляем кнопку c Хармсом\n",
        "\n",
        "        header = 'Список стилей';\n",
        "        bot.send_message(message.from_user.id, text=header, reply_markup=keyboard_author)\n",
        "\n",
        "    elif message.text == \"/start\":\n",
        "        bot.send_message(message.from_user.id,'Отправь /poem и я сочиню для тебя что то!' )\n",
        "    else:\n",
        "        bot.send_message(message.from_user.id, \"Я тебя не понимаю. Напиши /help.\")\n",
        "\n",
        "\n",
        "def get_word(message): #получаем слово\n",
        "    global word;\n",
        "    word = message.text;\n",
        "\n",
        "    bot.send_message(message.from_user.id, word + \" я люблю \\n И кушать кашу я люблю \\n Вот такой вот белый стих\")\n",
        "\n",
        "    keyboard_word = types.InlineKeyboardMarkup(); #наша клавиатура\n",
        "\n",
        "    key_yes = types.InlineKeyboardButton(text='Да', callback_data='yes'); #кнопка «Да»\n",
        "    keyboard_word.add(key_yes); #добавляем кнопку в клавиатуру\n",
        "    key_no= types.InlineKeyboardButton(text='Нет', callback_data='no');\n",
        "    keyboard_word.add(key_no);\n",
        "    question = 'Попробовать еще?';\n",
        "    bot.send_message(message.from_user.id, text=question, reply_markup=keyboard_word)\n",
        "\n",
        "\n",
        "@bot.callback_query_handler(func=lambda call: call.data == \"yes\" or call.data == 'no')\n",
        "\n",
        "def callback_worker(call):\n",
        "    if call.data == \"yes\": #call.data это callback_data, которую мы указали при объявлении кнопки\n",
        "        bot.send_message(call.message.chat.id, 'Введи первое слово');\n",
        "        bot.register_next_step_handler(call.message, get_word);\n",
        "    elif call.data == \"no\":\n",
        "        bot.send_message(call.message.chat.id, ':(');\n",
        "\n",
        "@bot.callback_query_handler(func=lambda call: call.data == \"hokku\" or call.data == 'esenin' or call.data == 'harms')\n",
        "def callback_author(call):\n",
        "    if call.data == \"hokku\": \n",
        "        bot.send_message(call.message.chat.id, 'ok');\n",
        "        bot.send_message(call.message.chat.id, 'Введи первое слово');\n",
        "        bot.register_next_step_handler(call.message, get_word);\n",
        "    elif call.data == \"esenin\":\n",
        "        bot.send_message(call.message.chat.id, 'ok2');\n",
        "        bot.send_message(call.message.chat.id, 'Введи первое слово');\n",
        "        bot.register_next_step_handler(call.message, get_word);\n",
        "    elif call.data == \"harms\":\n",
        "        bot.send_message(call.message.chat.id, 'ok3');\n",
        "        bot.send_message(call.message.chat.id, 'Введи первое слово');\n",
        "        bot.register_next_step_handler(call.message, get_word);\n",
        "\n"
      ],
      "metadata": {
        "id": "A249HoD3BFTw"
      },
      "execution_count": 44,
      "outputs": []
    },
    {
      "cell_type": "code",
      "source": [
        "bot.polling(none_stop=True, interval=0) "
      ],
      "metadata": {
        "id": "X2SvyYifEuwf"
      },
      "execution_count": 45,
      "outputs": []
    }
  ],
  "metadata": {
    "kernelspec": {
      "display_name": "Python 3",
      "name": "python3"
    },
    "language_info": {
      "codemirror_mode": {
        "name": "ipython",
        "version": 3
      },
      "file_extension": ".py",
      "mimetype": "text/x-python",
      "name": "python",
      "nbconvert_exporter": "python",
      "pygments_lexer": "ipython3",
      "version": "3.7.6"
    },
    "colab": {
      "provenance": [],
      "gpuType": "T4",
      "include_colab_link": true
    },
    "accelerator": "GPU"
  },
  "nbformat": 4,
  "nbformat_minor": 0
}